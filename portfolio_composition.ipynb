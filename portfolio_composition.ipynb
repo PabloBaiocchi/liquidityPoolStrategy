{
 "cells": [
  {
   "cell_type": "code",
   "execution_count": 1,
   "id": "8571389d",
   "metadata": {},
   "outputs": [],
   "source": [
    "import dataAcquisition as da"
   ]
  },
  {
   "cell_type": "code",
   "execution_count": 2,
   "id": "a5df74aa",
   "metadata": {},
   "outputs": [],
   "source": [
    "import pandas as pd\n",
    "import numpy as np"
   ]
  },
  {
   "cell_type": "code",
   "execution_count": 3,
   "id": "d60508f4",
   "metadata": {},
   "outputs": [],
   "source": [
    "import matplotlib.pyplot as plt\n",
    "plt.rcParams[\"figure.figsize\"] = (15,10)"
   ]
  },
  {
   "cell_type": "code",
   "execution_count": null,
   "id": "6d4e28c8",
   "metadata": {},
   "outputs": [],
   "source": [
    "df=da.getStablePoolHistory(10000000)"
   ]
  },
  {
   "cell_type": "code",
   "execution_count": null,
   "id": "ee8d3bb8",
   "metadata": {},
   "outputs": [],
   "source": [
    "df"
   ]
  },
  {
   "cell_type": "code",
   "execution_count": null,
   "id": "7857c262",
   "metadata": {},
   "outputs": [],
   "source": [
    "df['returns']=df.feesUSD/df.tvlUSD"
   ]
  },
  {
   "cell_type": "code",
   "execution_count": null,
   "id": "d1b8a0cd",
   "metadata": {},
   "outputs": [],
   "source": [
    "start_date=df[df.pool_name=='USDC_USDT_01'].date.min()"
   ]
  },
  {
   "cell_type": "code",
   "execution_count": null,
   "id": "7eb9297c",
   "metadata": {},
   "outputs": [],
   "source": [
    "current_env=df[df.date>start_date].reset_index(drop=True)"
   ]
  },
  {
   "cell_type": "code",
   "execution_count": null,
   "id": "f33513c5",
   "metadata": {},
   "outputs": [],
   "source": [
    "current_env.groupby('pool_name').returns.mean()*365"
   ]
  },
  {
   "cell_type": "code",
   "execution_count": null,
   "id": "f50f865e",
   "metadata": {},
   "outputs": [],
   "source": [
    "current_env.groupby('pool_name').agg({'returns':['mean','std']})"
   ]
  },
  {
   "cell_type": "code",
   "execution_count": null,
   "id": "dbef3158",
   "metadata": {},
   "outputs": [],
   "source": [
    "def returnsColumn(gb_tupple):\n",
    "    pool_name,frame=gb_tupple\n",
    "    series=frame.sort_values('date',ascending=True).returns.reset_index(drop=True)\n",
    "    series.name=pool_name\n",
    "    return series"
   ]
  },
  {
   "cell_type": "code",
   "execution_count": null,
   "id": "40af9ea2",
   "metadata": {},
   "outputs": [],
   "source": [
    "pd.concat([returnsColumn(tupple) for tupple in current_env.groupby('pool_name')],axis=1)"
   ]
  },
  {
   "cell_type": "code",
   "execution_count": null,
   "id": "1106d2a8",
   "metadata": {},
   "outputs": [],
   "source": [
    "busd=current_env[current_env.pool_name=='BUSD_USDC_05'].copy()"
   ]
  },
  {
   "cell_type": "code",
   "execution_count": null,
   "id": "94e20417",
   "metadata": {},
   "outputs": [],
   "source": [
    "busd_range=pd.date_range(busd.date.min(),busd.date.max())\n",
    "len(busd_range[~busd_range.isin(busd.date)])"
   ]
  },
  {
   "cell_type": "code",
   "execution_count": null,
   "id": "35518ebf",
   "metadata": {},
   "outputs": [],
   "source": [
    "busd_missing=busd_range[~busd_range.isin(busd.date)].to_frame().reset_index(drop=True)\n",
    "busd_missing.columns=['date']\n",
    "busd_missing['pool_name']='BUSD_USDC_05'\n",
    "busd_missing['returns']=0\n",
    "current_env_clean=pd.concat([current_env[['date','pool_name','returns']],busd_missing]).reset_index(drop=True)"
   ]
  },
  {
   "cell_type": "code",
   "execution_count": null,
   "id": "0641f227",
   "metadata": {},
   "outputs": [],
   "source": [
    "returns_df=pd.concat([returnsColumn(tupple) for tupple in current_env_clean.groupby('pool_name')],axis=1)"
   ]
  },
  {
   "cell_type": "code",
   "execution_count": null,
   "id": "f73be1c9",
   "metadata": {},
   "outputs": [],
   "source": [
    "returns_df"
   ]
  },
  {
   "cell_type": "code",
   "execution_count": null,
   "id": "8355dec9",
   "metadata": {},
   "outputs": [],
   "source": [
    "returns_df.corr()"
   ]
  },
  {
   "cell_type": "code",
   "execution_count": null,
   "id": "47177f34",
   "metadata": {},
   "outputs": [],
   "source": [
    "import weight_simulation as ws"
   ]
  },
  {
   "cell_type": "code",
   "execution_count": null,
   "id": "27d4dfdc",
   "metadata": {},
   "outputs": [],
   "source": [
    "results=ws.run(returns_df,100000)"
   ]
  },
  {
   "cell_type": "code",
   "execution_count": null,
   "id": "9fc5c6af",
   "metadata": {},
   "outputs": [],
   "source": [
    "def annualize(results_df):\n",
    "    results_df['annual_returns']=results_df.daily_return*365\n",
    "    results_df['annual_std']=results_df.daily_std*365**(1/2)"
   ]
  },
  {
   "cell_type": "code",
   "execution_count": null,
   "id": "cbf15a56",
   "metadata": {},
   "outputs": [],
   "source": [
    "annualize(results)"
   ]
  },
  {
   "cell_type": "code",
   "execution_count": null,
   "id": "5968954c",
   "metadata": {},
   "outputs": [],
   "source": [
    "identity=np.matrix(np.identity(5))"
   ]
  },
  {
   "cell_type": "code",
   "execution_count": null,
   "id": "9f78b93c",
   "metadata": {},
   "outputs": [],
   "source": [
    "identity_matrix=np.matrix(np.identity(5))\n",
    "base_case=run(returns_df,identity_matrix)"
   ]
  },
  {
   "cell_type": "code",
   "execution_count": null,
   "id": "4162bde5",
   "metadata": {},
   "outputs": [],
   "source": [
    "annualize(base_case)"
   ]
  },
  {
   "cell_type": "code",
   "execution_count": null,
   "id": "8edebad2",
   "metadata": {},
   "outputs": [],
   "source": [
    "plt.scatter(results.annual_std,results.annual_returns,color='lightgrey')\n",
    "for index, row in base_case.iterrows():\n",
    "    pool_name=base_case.columns[index]\n",
    "    plt.scatter([row.annual_std],[row.annual_returns],label=pool_name)\n",
    "_=plt.legend()"
   ]
  },
  {
   "cell_type": "code",
   "execution_count": null,
   "id": "b671d15f",
   "metadata": {},
   "outputs": [],
   "source": [
    "base_case"
   ]
  },
  {
   "cell_type": "code",
   "execution_count": null,
   "id": "2a27bba6",
   "metadata": {},
   "outputs": [],
   "source": []
  }
 ],
 "metadata": {
  "kernelspec": {
   "display_name": "Python 3 (ipykernel)",
   "language": "python",
   "name": "python3"
  },
  "language_info": {
   "codemirror_mode": {
    "name": "ipython",
    "version": 3
   },
   "file_extension": ".py",
   "mimetype": "text/x-python",
   "name": "python",
   "nbconvert_exporter": "python",
   "pygments_lexer": "ipython3",
   "version": "3.10.4"
  }
 },
 "nbformat": 4,
 "nbformat_minor": 5
}

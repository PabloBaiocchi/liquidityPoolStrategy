{
 "cells": [
  {
   "cell_type": "code",
   "execution_count": 13,
   "id": "5bb25da0",
   "metadata": {},
   "outputs": [],
   "source": [
    "import dataAcquisition as da"
   ]
  },
  {
   "cell_type": "code",
   "execution_count": 14,
   "id": "62dd2510",
   "metadata": {},
   "outputs": [],
   "source": [
    "stable_pools=da.getStablePools(10000000)"
   ]
  },
  {
   "cell_type": "code",
   "execution_count": 15,
   "id": "de86eaf1",
   "metadata": {},
   "outputs": [
    {
     "data": {
      "text/html": [
       "<div>\n",
       "<style scoped>\n",
       "    .dataframe tbody tr th:only-of-type {\n",
       "        vertical-align: middle;\n",
       "    }\n",
       "\n",
       "    .dataframe tbody tr th {\n",
       "        vertical-align: top;\n",
       "    }\n",
       "\n",
       "    .dataframe thead th {\n",
       "        text-align: right;\n",
       "    }\n",
       "</style>\n",
       "<table border=\"1\" class=\"dataframe\">\n",
       "  <thead>\n",
       "    <tr style=\"text-align: right;\">\n",
       "      <th></th>\n",
       "      <th>token0</th>\n",
       "      <th>token1</th>\n",
       "      <th>tvl_usd</th>\n",
       "      <th>pool_id</th>\n",
       "    </tr>\n",
       "  </thead>\n",
       "  <tbody>\n",
       "    <tr>\n",
       "      <th>0</th>\n",
       "      <td>BUSD</td>\n",
       "      <td>USDC</td>\n",
       "      <td>2.411278e+07</td>\n",
       "      <td>0x00cef0386ed94d738c8f8a74e8bfd0376926d24c</td>\n",
       "    </tr>\n",
       "    <tr>\n",
       "      <th>1</th>\n",
       "      <td>USDC</td>\n",
       "      <td>USDT</td>\n",
       "      <td>1.564645e+08</td>\n",
       "      <td>0x3416cf6c708da44db2624d63ea0aaef7113527c6</td>\n",
       "    </tr>\n",
       "    <tr>\n",
       "      <th>2</th>\n",
       "      <td>DAI</td>\n",
       "      <td>USDC</td>\n",
       "      <td>4.192040e+08</td>\n",
       "      <td>0x5777d92f208679db4b9778590fa3cab3ac9e2168</td>\n",
       "    </tr>\n",
       "    <tr>\n",
       "      <th>3</th>\n",
       "      <td>DAI</td>\n",
       "      <td>USDC</td>\n",
       "      <td>2.824494e+08</td>\n",
       "      <td>0x6c6bc977e13df9b0de53b251522280bb72383700</td>\n",
       "    </tr>\n",
       "    <tr>\n",
       "      <th>4</th>\n",
       "      <td>USDC</td>\n",
       "      <td>USDT</td>\n",
       "      <td>2.468397e+07</td>\n",
       "      <td>0x7858e59e0c01ea06df3af3d20ac7b0003275d4bf</td>\n",
       "    </tr>\n",
       "  </tbody>\n",
       "</table>\n",
       "</div>"
      ],
      "text/plain": [
       "  token0 token1       tvl_usd                                     pool_id\n",
       "0   BUSD   USDC  2.411278e+07  0x00cef0386ed94d738c8f8a74e8bfd0376926d24c\n",
       "1   USDC   USDT  1.564645e+08  0x3416cf6c708da44db2624d63ea0aaef7113527c6\n",
       "2    DAI   USDC  4.192040e+08  0x5777d92f208679db4b9778590fa3cab3ac9e2168\n",
       "3    DAI   USDC  2.824494e+08  0x6c6bc977e13df9b0de53b251522280bb72383700\n",
       "4   USDC   USDT  2.468397e+07  0x7858e59e0c01ea06df3af3d20ac7b0003275d4bf"
      ]
     },
     "execution_count": 15,
     "metadata": {},
     "output_type": "execute_result"
    }
   ],
   "source": [
    "stable_pools"
   ]
  },
  {
   "cell_type": "code",
   "execution_count": 16,
   "id": "4b31fadb",
   "metadata": {},
   "outputs": [],
   "source": [
    "pool_id=stable_pools.iloc[0].pool_id"
   ]
  },
  {
   "cell_type": "code",
   "execution_count": 17,
   "id": "5e046277",
   "metadata": {},
   "outputs": [
    {
     "data": {
      "text/plain": [
       "'0x00cef0386ed94d738c8f8a74e8bfd0376926d24c'"
      ]
     },
     "execution_count": 17,
     "metadata": {},
     "output_type": "execute_result"
    }
   ],
   "source": [
    "pool_id"
   ]
  },
  {
   "cell_type": "code",
   "execution_count": 18,
   "id": "48bd2200",
   "metadata": {},
   "outputs": [],
   "source": [
    "q=Query('./queries/pool_by_id')"
   ]
  },
  {
   "cell_type": "code",
   "execution_count": 19,
   "id": "fca4f704",
   "metadata": {},
   "outputs": [],
   "source": [
    "import requests"
   ]
  },
  {
   "cell_type": "code",
   "execution_count": 20,
   "id": "77196f9c",
   "metadata": {},
   "outputs": [],
   "source": [
    "response=requests.post(uniswap_endpoint,json={'query':q.getQuery({'__id__':pool_id})})"
   ]
  },
  {
   "cell_type": "code",
   "execution_count": 21,
   "id": "e83074dd",
   "metadata": {},
   "outputs": [
    {
     "data": {
      "text/plain": [
       "<Response [200]>"
      ]
     },
     "execution_count": 21,
     "metadata": {},
     "output_type": "execute_result"
    }
   ],
   "source": [
    "response"
   ]
  },
  {
   "cell_type": "code",
   "execution_count": 22,
   "id": "c1e0949f",
   "metadata": {},
   "outputs": [],
   "source": [
    "data=response.json()"
   ]
  },
  {
   "cell_type": "code",
   "execution_count": 26,
   "id": "2502902c",
   "metadata": {},
   "outputs": [],
   "source": [
    "df=pd.DataFrame(data['data']['pools'][0]['poolDayData'])"
   ]
  },
  {
   "cell_type": "code",
   "execution_count": 30,
   "id": "7af60db4",
   "metadata": {},
   "outputs": [],
   "source": [
    "df['date']=df.date.apply(lambda d: pd.Timestamp(ts_input=d,unit='s'))\n",
    "df['tvlUSD']=df.tvlUSD.astype(float)\n",
    "df['volumeUSD']=df.volumeUSD.astype(float)\n",
    "df['feesUSD']=df.feesUSD.astype(float)"
   ]
  },
  {
   "cell_type": "code",
   "execution_count": 31,
   "id": "4299d8fd",
   "metadata": {},
   "outputs": [
    {
     "data": {
      "text/html": [
       "<div>\n",
       "<style scoped>\n",
       "    .dataframe tbody tr th:only-of-type {\n",
       "        vertical-align: middle;\n",
       "    }\n",
       "\n",
       "    .dataframe tbody tr th {\n",
       "        vertical-align: top;\n",
       "    }\n",
       "\n",
       "    .dataframe thead th {\n",
       "        text-align: right;\n",
       "    }\n",
       "</style>\n",
       "<table border=\"1\" class=\"dataframe\">\n",
       "  <thead>\n",
       "    <tr style=\"text-align: right;\">\n",
       "      <th></th>\n",
       "      <th>date</th>\n",
       "      <th>tvlUSD</th>\n",
       "      <th>volumeUSD</th>\n",
       "      <th>feesUSD</th>\n",
       "    </tr>\n",
       "  </thead>\n",
       "  <tbody>\n",
       "    <tr>\n",
       "      <th>0</th>\n",
       "      <td>2021-05-24</td>\n",
       "      <td>4.038929e+05</td>\n",
       "      <td>1.560326e+05</td>\n",
       "      <td>78.016302</td>\n",
       "    </tr>\n",
       "    <tr>\n",
       "      <th>1</th>\n",
       "      <td>2021-05-25</td>\n",
       "      <td>6.273335e+05</td>\n",
       "      <td>1.641681e+06</td>\n",
       "      <td>820.840475</td>\n",
       "    </tr>\n",
       "    <tr>\n",
       "      <th>2</th>\n",
       "      <td>2021-05-26</td>\n",
       "      <td>6.411043e+05</td>\n",
       "      <td>1.581438e+05</td>\n",
       "      <td>79.071880</td>\n",
       "    </tr>\n",
       "    <tr>\n",
       "      <th>3</th>\n",
       "      <td>2021-05-27</td>\n",
       "      <td>6.411378e+05</td>\n",
       "      <td>6.312746e+04</td>\n",
       "      <td>31.563732</td>\n",
       "    </tr>\n",
       "    <tr>\n",
       "      <th>4</th>\n",
       "      <td>2021-05-28</td>\n",
       "      <td>5.229501e+05</td>\n",
       "      <td>3.004094e+05</td>\n",
       "      <td>150.204708</td>\n",
       "    </tr>\n",
       "    <tr>\n",
       "      <th>...</th>\n",
       "      <td>...</td>\n",
       "      <td>...</td>\n",
       "      <td>...</td>\n",
       "      <td>...</td>\n",
       "    </tr>\n",
       "    <tr>\n",
       "      <th>497</th>\n",
       "      <td>2022-10-16</td>\n",
       "      <td>2.411219e+07</td>\n",
       "      <td>4.853092e+05</td>\n",
       "      <td>242.654588</td>\n",
       "    </tr>\n",
       "    <tr>\n",
       "      <th>498</th>\n",
       "      <td>2022-10-17</td>\n",
       "      <td>2.411259e+07</td>\n",
       "      <td>8.498574e+01</td>\n",
       "      <td>0.042493</td>\n",
       "    </tr>\n",
       "    <tr>\n",
       "      <th>499</th>\n",
       "      <td>2022-10-18</td>\n",
       "      <td>2.411245e+07</td>\n",
       "      <td>5.859606e+04</td>\n",
       "      <td>29.298028</td>\n",
       "    </tr>\n",
       "    <tr>\n",
       "      <th>500</th>\n",
       "      <td>2022-10-19</td>\n",
       "      <td>2.410930e+07</td>\n",
       "      <td>1.870470e+06</td>\n",
       "      <td>935.235012</td>\n",
       "    </tr>\n",
       "    <tr>\n",
       "      <th>501</th>\n",
       "      <td>2022-10-20</td>\n",
       "      <td>2.411020e+07</td>\n",
       "      <td>8.375845e+05</td>\n",
       "      <td>418.792270</td>\n",
       "    </tr>\n",
       "  </tbody>\n",
       "</table>\n",
       "<p>502 rows × 4 columns</p>\n",
       "</div>"
      ],
      "text/plain": [
       "          date        tvlUSD     volumeUSD     feesUSD\n",
       "0   2021-05-24  4.038929e+05  1.560326e+05   78.016302\n",
       "1   2021-05-25  6.273335e+05  1.641681e+06  820.840475\n",
       "2   2021-05-26  6.411043e+05  1.581438e+05   79.071880\n",
       "3   2021-05-27  6.411378e+05  6.312746e+04   31.563732\n",
       "4   2021-05-28  5.229501e+05  3.004094e+05  150.204708\n",
       "..         ...           ...           ...         ...\n",
       "497 2022-10-16  2.411219e+07  4.853092e+05  242.654588\n",
       "498 2022-10-17  2.411259e+07  8.498574e+01    0.042493\n",
       "499 2022-10-18  2.411245e+07  5.859606e+04   29.298028\n",
       "500 2022-10-19  2.410930e+07  1.870470e+06  935.235012\n",
       "501 2022-10-20  2.411020e+07  8.375845e+05  418.792270\n",
       "\n",
       "[502 rows x 4 columns]"
      ]
     },
     "execution_count": 31,
     "metadata": {},
     "output_type": "execute_result"
    }
   ],
   "source": [
    "df"
   ]
  },
  {
   "cell_type": "code",
   "execution_count": null,
   "id": "fb334fcb",
   "metadata": {},
   "outputs": [],
   "source": []
  }
 ],
 "metadata": {
  "kernelspec": {
   "display_name": "Python 3 (ipykernel)",
   "language": "python",
   "name": "python3"
  },
  "language_info": {
   "codemirror_mode": {
    "name": "ipython",
    "version": 3
   },
   "file_extension": ".py",
   "mimetype": "text/x-python",
   "name": "python",
   "nbconvert_exporter": "python",
   "pygments_lexer": "ipython3",
   "version": "3.10.4"
  }
 },
 "nbformat": 4,
 "nbformat_minor": 5
}

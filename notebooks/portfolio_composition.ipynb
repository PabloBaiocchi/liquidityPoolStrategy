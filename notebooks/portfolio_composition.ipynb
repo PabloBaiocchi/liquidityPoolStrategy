{
 "cells": [
  {
   "cell_type": "code",
   "execution_count": 1,
   "id": "8571389d",
   "metadata": {},
   "outputs": [],
   "source": [
    "import src.data_acquisition as da"
   ]
  },
  {
   "cell_type": "code",
   "execution_count": 2,
   "id": "a5df74aa",
   "metadata": {},
   "outputs": [],
   "source": [
    "import pandas as pd\n",
    "import numpy as np"
   ]
  },
  {
   "cell_type": "code",
   "execution_count": 3,
   "id": "d60508f4",
   "metadata": {},
   "outputs": [],
   "source": [
    "import matplotlib.pyplot as plt\n",
    "plt.rcParams[\"figure.figsize\"] = (15,10)"
   ]
  },
  {
   "cell_type": "code",
   "execution_count": 4,
   "id": "6d4e28c8",
   "metadata": {},
   "outputs": [],
   "source": [
    "df=da.getStablePoolHistory(10000000)"
   ]
  },
  {
   "cell_type": "code",
   "execution_count": 5,
   "id": "ee8d3bb8",
   "metadata": {},
   "outputs": [
    {
     "data": {
      "text/html": [
       "<div>\n",
       "<style scoped>\n",
       "    .dataframe tbody tr th:only-of-type {\n",
       "        vertical-align: middle;\n",
       "    }\n",
       "\n",
       "    .dataframe tbody tr th {\n",
       "        vertical-align: top;\n",
       "    }\n",
       "\n",
       "    .dataframe thead th {\n",
       "        text-align: right;\n",
       "    }\n",
       "</style>\n",
       "<table border=\"1\" class=\"dataframe\">\n",
       "  <thead>\n",
       "    <tr style=\"text-align: right;\">\n",
       "      <th></th>\n",
       "      <th>date</th>\n",
       "      <th>tvlUSD</th>\n",
       "      <th>volumeUSD</th>\n",
       "      <th>feesUSD</th>\n",
       "      <th>pool_id</th>\n",
       "      <th>pool_name</th>\n",
       "    </tr>\n",
       "  </thead>\n",
       "  <tbody>\n",
       "    <tr>\n",
       "      <th>0</th>\n",
       "      <td>2021-05-24</td>\n",
       "      <td>4.038929e+05</td>\n",
       "      <td>1.560326e+05</td>\n",
       "      <td>78.016302</td>\n",
       "      <td>0x00cef0386ed94d738c8f8a74e8bfd0376926d24c</td>\n",
       "      <td>BUSD_USDC_05</td>\n",
       "    </tr>\n",
       "    <tr>\n",
       "      <th>1</th>\n",
       "      <td>2021-05-25</td>\n",
       "      <td>6.273335e+05</td>\n",
       "      <td>1.641681e+06</td>\n",
       "      <td>820.840475</td>\n",
       "      <td>0x00cef0386ed94d738c8f8a74e8bfd0376926d24c</td>\n",
       "      <td>BUSD_USDC_05</td>\n",
       "    </tr>\n",
       "    <tr>\n",
       "      <th>2</th>\n",
       "      <td>2021-05-26</td>\n",
       "      <td>6.411043e+05</td>\n",
       "      <td>1.581438e+05</td>\n",
       "      <td>79.071880</td>\n",
       "      <td>0x00cef0386ed94d738c8f8a74e8bfd0376926d24c</td>\n",
       "      <td>BUSD_USDC_05</td>\n",
       "    </tr>\n",
       "    <tr>\n",
       "      <th>3</th>\n",
       "      <td>2021-05-27</td>\n",
       "      <td>6.411378e+05</td>\n",
       "      <td>6.312746e+04</td>\n",
       "      <td>31.563732</td>\n",
       "      <td>0x00cef0386ed94d738c8f8a74e8bfd0376926d24c</td>\n",
       "      <td>BUSD_USDC_05</td>\n",
       "    </tr>\n",
       "    <tr>\n",
       "      <th>4</th>\n",
       "      <td>2021-05-28</td>\n",
       "      <td>5.229501e+05</td>\n",
       "      <td>3.004094e+05</td>\n",
       "      <td>150.204708</td>\n",
       "      <td>0x00cef0386ed94d738c8f8a74e8bfd0376926d24c</td>\n",
       "      <td>BUSD_USDC_05</td>\n",
       "    </tr>\n",
       "    <tr>\n",
       "      <th>...</th>\n",
       "      <td>...</td>\n",
       "      <td>...</td>\n",
       "      <td>...</td>\n",
       "      <td>...</td>\n",
       "      <td>...</td>\n",
       "      <td>...</td>\n",
       "    </tr>\n",
       "    <tr>\n",
       "      <th>2305</th>\n",
       "      <td>2022-10-27</td>\n",
       "      <td>2.852509e+07</td>\n",
       "      <td>1.856427e+06</td>\n",
       "      <td>928.213331</td>\n",
       "      <td>0x7858e59e0c01ea06df3af3d20ac7b0003275d4bf</td>\n",
       "      <td>USDC_USDT_05</td>\n",
       "    </tr>\n",
       "    <tr>\n",
       "      <th>2306</th>\n",
       "      <td>2022-10-28</td>\n",
       "      <td>2.850823e+07</td>\n",
       "      <td>5.045840e+06</td>\n",
       "      <td>2522.919836</td>\n",
       "      <td>0x7858e59e0c01ea06df3af3d20ac7b0003275d4bf</td>\n",
       "      <td>USDC_USDT_05</td>\n",
       "    </tr>\n",
       "    <tr>\n",
       "      <th>2307</th>\n",
       "      <td>2022-10-29</td>\n",
       "      <td>2.851159e+07</td>\n",
       "      <td>6.669950e+06</td>\n",
       "      <td>3334.975121</td>\n",
       "      <td>0x7858e59e0c01ea06df3af3d20ac7b0003275d4bf</td>\n",
       "      <td>USDC_USDT_05</td>\n",
       "    </tr>\n",
       "    <tr>\n",
       "      <th>2308</th>\n",
       "      <td>2022-10-30</td>\n",
       "      <td>3.213952e+07</td>\n",
       "      <td>1.031828e+06</td>\n",
       "      <td>515.913950</td>\n",
       "      <td>0x7858e59e0c01ea06df3af3d20ac7b0003275d4bf</td>\n",
       "      <td>USDC_USDT_05</td>\n",
       "    </tr>\n",
       "    <tr>\n",
       "      <th>2309</th>\n",
       "      <td>2022-10-31</td>\n",
       "      <td>3.304498e+07</td>\n",
       "      <td>5.017345e+06</td>\n",
       "      <td>2508.672587</td>\n",
       "      <td>0x7858e59e0c01ea06df3af3d20ac7b0003275d4bf</td>\n",
       "      <td>USDC_USDT_05</td>\n",
       "    </tr>\n",
       "  </tbody>\n",
       "</table>\n",
       "<p>2310 rows × 6 columns</p>\n",
       "</div>"
      ],
      "text/plain": [
       "           date        tvlUSD     volumeUSD      feesUSD  \\\n",
       "0    2021-05-24  4.038929e+05  1.560326e+05    78.016302   \n",
       "1    2021-05-25  6.273335e+05  1.641681e+06   820.840475   \n",
       "2    2021-05-26  6.411043e+05  1.581438e+05    79.071880   \n",
       "3    2021-05-27  6.411378e+05  6.312746e+04    31.563732   \n",
       "4    2021-05-28  5.229501e+05  3.004094e+05   150.204708   \n",
       "...         ...           ...           ...          ...   \n",
       "2305 2022-10-27  2.852509e+07  1.856427e+06   928.213331   \n",
       "2306 2022-10-28  2.850823e+07  5.045840e+06  2522.919836   \n",
       "2307 2022-10-29  2.851159e+07  6.669950e+06  3334.975121   \n",
       "2308 2022-10-30  3.213952e+07  1.031828e+06   515.913950   \n",
       "2309 2022-10-31  3.304498e+07  5.017345e+06  2508.672587   \n",
       "\n",
       "                                         pool_id     pool_name  \n",
       "0     0x00cef0386ed94d738c8f8a74e8bfd0376926d24c  BUSD_USDC_05  \n",
       "1     0x00cef0386ed94d738c8f8a74e8bfd0376926d24c  BUSD_USDC_05  \n",
       "2     0x00cef0386ed94d738c8f8a74e8bfd0376926d24c  BUSD_USDC_05  \n",
       "3     0x00cef0386ed94d738c8f8a74e8bfd0376926d24c  BUSD_USDC_05  \n",
       "4     0x00cef0386ed94d738c8f8a74e8bfd0376926d24c  BUSD_USDC_05  \n",
       "...                                          ...           ...  \n",
       "2305  0x7858e59e0c01ea06df3af3d20ac7b0003275d4bf  USDC_USDT_05  \n",
       "2306  0x7858e59e0c01ea06df3af3d20ac7b0003275d4bf  USDC_USDT_05  \n",
       "2307  0x7858e59e0c01ea06df3af3d20ac7b0003275d4bf  USDC_USDT_05  \n",
       "2308  0x7858e59e0c01ea06df3af3d20ac7b0003275d4bf  USDC_USDT_05  \n",
       "2309  0x7858e59e0c01ea06df3af3d20ac7b0003275d4bf  USDC_USDT_05  \n",
       "\n",
       "[2310 rows x 6 columns]"
      ]
     },
     "execution_count": 5,
     "metadata": {},
     "output_type": "execute_result"
    }
   ],
   "source": [
    "df"
   ]
  },
  {
   "cell_type": "code",
   "execution_count": 6,
   "id": "7857c262",
   "metadata": {},
   "outputs": [],
   "source": [
    "df['returns']=df.feesUSD/df.tvlUSD"
   ]
  },
  {
   "cell_type": "code",
   "execution_count": 7,
   "id": "d1b8a0cd",
   "metadata": {},
   "outputs": [],
   "source": [
    "start_date=df[df.pool_name=='USDC_USDT_01'].date.min()"
   ]
  },
  {
   "cell_type": "code",
   "execution_count": 8,
   "id": "7eb9297c",
   "metadata": {},
   "outputs": [],
   "source": [
    "current_env=df[df.date>start_date].reset_index(drop=True)"
   ]
  },
  {
   "cell_type": "code",
   "execution_count": 9,
   "id": "f33513c5",
   "metadata": {},
   "outputs": [
    {
     "data": {
      "text/plain": [
       "pool_name\n",
       "BUSD_USDC_05    0.013030\n",
       "DAI_USDC_01     0.017927\n",
       "DAI_USDC_05     0.004436\n",
       "USDC_USDT_01    0.022031\n",
       "USDC_USDT_05    0.042062\n",
       "Name: returns, dtype: float64"
      ]
     },
     "execution_count": 9,
     "metadata": {},
     "output_type": "execute_result"
    }
   ],
   "source": [
    "current_env.groupby('pool_name').returns.mean()*365"
   ]
  },
  {
   "cell_type": "code",
   "execution_count": 10,
   "id": "f50f865e",
   "metadata": {},
   "outputs": [
    {
     "data": {
      "text/html": [
       "<div>\n",
       "<style scoped>\n",
       "    .dataframe tbody tr th:only-of-type {\n",
       "        vertical-align: middle;\n",
       "    }\n",
       "\n",
       "    .dataframe tbody tr th {\n",
       "        vertical-align: top;\n",
       "    }\n",
       "\n",
       "    .dataframe thead tr th {\n",
       "        text-align: left;\n",
       "    }\n",
       "\n",
       "    .dataframe thead tr:last-of-type th {\n",
       "        text-align: right;\n",
       "    }\n",
       "</style>\n",
       "<table border=\"1\" class=\"dataframe\">\n",
       "  <thead>\n",
       "    <tr>\n",
       "      <th></th>\n",
       "      <th colspan=\"2\" halign=\"left\">returns</th>\n",
       "    </tr>\n",
       "    <tr>\n",
       "      <th></th>\n",
       "      <th>mean</th>\n",
       "      <th>std</th>\n",
       "    </tr>\n",
       "    <tr>\n",
       "      <th>pool_name</th>\n",
       "      <th></th>\n",
       "      <th></th>\n",
       "    </tr>\n",
       "  </thead>\n",
       "  <tbody>\n",
       "    <tr>\n",
       "      <th>BUSD_USDC_05</th>\n",
       "      <td>0.000036</td>\n",
       "      <td>0.000143</td>\n",
       "    </tr>\n",
       "    <tr>\n",
       "      <th>DAI_USDC_01</th>\n",
       "      <td>0.000049</td>\n",
       "      <td>0.000158</td>\n",
       "    </tr>\n",
       "    <tr>\n",
       "      <th>DAI_USDC_05</th>\n",
       "      <td>0.000012</td>\n",
       "      <td>0.000026</td>\n",
       "    </tr>\n",
       "    <tr>\n",
       "      <th>USDC_USDT_01</th>\n",
       "      <td>0.000060</td>\n",
       "      <td>0.000050</td>\n",
       "    </tr>\n",
       "    <tr>\n",
       "      <th>USDC_USDT_05</th>\n",
       "      <td>0.000115</td>\n",
       "      <td>0.000281</td>\n",
       "    </tr>\n",
       "  </tbody>\n",
       "</table>\n",
       "</div>"
      ],
      "text/plain": [
       "               returns          \n",
       "                  mean       std\n",
       "pool_name                       \n",
       "BUSD_USDC_05  0.000036  0.000143\n",
       "DAI_USDC_01   0.000049  0.000158\n",
       "DAI_USDC_05   0.000012  0.000026\n",
       "USDC_USDT_01  0.000060  0.000050\n",
       "USDC_USDT_05  0.000115  0.000281"
      ]
     },
     "execution_count": 10,
     "metadata": {},
     "output_type": "execute_result"
    }
   ],
   "source": [
    "current_env.groupby('pool_name').agg({'returns':['mean','std']})"
   ]
  },
  {
   "cell_type": "code",
   "execution_count": 11,
   "id": "dbef3158",
   "metadata": {},
   "outputs": [],
   "source": [
    "def returnsColumn(gb_tupple):\n",
    "    pool_name,frame=gb_tupple\n",
    "    series=frame.sort_values('date',ascending=True).returns.reset_index(drop=True)\n",
    "    series.name=pool_name\n",
    "    return series"
   ]
  },
  {
   "cell_type": "code",
   "execution_count": 12,
   "id": "40af9ea2",
   "metadata": {},
   "outputs": [
    {
     "data": {
      "text/html": [
       "<div>\n",
       "<style scoped>\n",
       "    .dataframe tbody tr th:only-of-type {\n",
       "        vertical-align: middle;\n",
       "    }\n",
       "\n",
       "    .dataframe tbody tr th {\n",
       "        vertical-align: top;\n",
       "    }\n",
       "\n",
       "    .dataframe thead th {\n",
       "        text-align: right;\n",
       "    }\n",
       "</style>\n",
       "<table border=\"1\" class=\"dataframe\">\n",
       "  <thead>\n",
       "    <tr style=\"text-align: right;\">\n",
       "      <th></th>\n",
       "      <th>BUSD_USDC_05</th>\n",
       "      <th>DAI_USDC_01</th>\n",
       "      <th>DAI_USDC_05</th>\n",
       "      <th>USDC_USDT_01</th>\n",
       "      <th>USDC_USDT_05</th>\n",
       "    </tr>\n",
       "  </thead>\n",
       "  <tbody>\n",
       "    <tr>\n",
       "      <th>0</th>\n",
       "      <td>0.000092</td>\n",
       "      <td>0.000146</td>\n",
       "      <td>8.987138e-05</td>\n",
       "      <td>0.000080</td>\n",
       "      <td>0.000043</td>\n",
       "    </tr>\n",
       "    <tr>\n",
       "      <th>1</th>\n",
       "      <td>0.000285</td>\n",
       "      <td>0.000232</td>\n",
       "      <td>4.994879e-05</td>\n",
       "      <td>0.000436</td>\n",
       "      <td>0.000121</td>\n",
       "    </tr>\n",
       "    <tr>\n",
       "      <th>2</th>\n",
       "      <td>0.000179</td>\n",
       "      <td>0.002043</td>\n",
       "      <td>1.749659e-04</td>\n",
       "      <td>0.000518</td>\n",
       "      <td>0.000179</td>\n",
       "    </tr>\n",
       "    <tr>\n",
       "      <th>3</th>\n",
       "      <td>0.000090</td>\n",
       "      <td>0.000577</td>\n",
       "      <td>6.647771e-05</td>\n",
       "      <td>0.000103</td>\n",
       "      <td>0.000048</td>\n",
       "    </tr>\n",
       "    <tr>\n",
       "      <th>4</th>\n",
       "      <td>0.000270</td>\n",
       "      <td>0.000863</td>\n",
       "      <td>3.538135e-05</td>\n",
       "      <td>0.000094</td>\n",
       "      <td>0.000094</td>\n",
       "    </tr>\n",
       "    <tr>\n",
       "      <th>...</th>\n",
       "      <td>...</td>\n",
       "      <td>...</td>\n",
       "      <td>...</td>\n",
       "      <td>...</td>\n",
       "      <td>...</td>\n",
       "    </tr>\n",
       "    <tr>\n",
       "      <th>347</th>\n",
       "      <td>NaN</td>\n",
       "      <td>0.000006</td>\n",
       "      <td>1.406885e-06</td>\n",
       "      <td>0.000041</td>\n",
       "      <td>0.000033</td>\n",
       "    </tr>\n",
       "    <tr>\n",
       "      <th>348</th>\n",
       "      <td>NaN</td>\n",
       "      <td>0.000006</td>\n",
       "      <td>1.446730e-06</td>\n",
       "      <td>0.000064</td>\n",
       "      <td>0.000088</td>\n",
       "    </tr>\n",
       "    <tr>\n",
       "      <th>349</th>\n",
       "      <td>NaN</td>\n",
       "      <td>0.000006</td>\n",
       "      <td>1.491169e-06</td>\n",
       "      <td>0.000051</td>\n",
       "      <td>0.000117</td>\n",
       "    </tr>\n",
       "    <tr>\n",
       "      <th>350</th>\n",
       "      <td>NaN</td>\n",
       "      <td>0.000004</td>\n",
       "      <td>6.553577e-07</td>\n",
       "      <td>0.000054</td>\n",
       "      <td>0.000016</td>\n",
       "    </tr>\n",
       "    <tr>\n",
       "      <th>351</th>\n",
       "      <td>NaN</td>\n",
       "      <td>0.000003</td>\n",
       "      <td>1.167028e-06</td>\n",
       "      <td>0.000041</td>\n",
       "      <td>0.000076</td>\n",
       "    </tr>\n",
       "  </tbody>\n",
       "</table>\n",
       "<p>352 rows × 5 columns</p>\n",
       "</div>"
      ],
      "text/plain": [
       "     BUSD_USDC_05  DAI_USDC_01   DAI_USDC_05  USDC_USDT_01  USDC_USDT_05\n",
       "0        0.000092     0.000146  8.987138e-05      0.000080      0.000043\n",
       "1        0.000285     0.000232  4.994879e-05      0.000436      0.000121\n",
       "2        0.000179     0.002043  1.749659e-04      0.000518      0.000179\n",
       "3        0.000090     0.000577  6.647771e-05      0.000103      0.000048\n",
       "4        0.000270     0.000863  3.538135e-05      0.000094      0.000094\n",
       "..            ...          ...           ...           ...           ...\n",
       "347           NaN     0.000006  1.406885e-06      0.000041      0.000033\n",
       "348           NaN     0.000006  1.446730e-06      0.000064      0.000088\n",
       "349           NaN     0.000006  1.491169e-06      0.000051      0.000117\n",
       "350           NaN     0.000004  6.553577e-07      0.000054      0.000016\n",
       "351           NaN     0.000003  1.167028e-06      0.000041      0.000076\n",
       "\n",
       "[352 rows x 5 columns]"
      ]
     },
     "execution_count": 12,
     "metadata": {},
     "output_type": "execute_result"
    }
   ],
   "source": [
    "pd.concat([returnsColumn(tupple) for tupple in current_env.groupby('pool_name')],axis=1)"
   ]
  },
  {
   "cell_type": "code",
   "execution_count": 13,
   "id": "1106d2a8",
   "metadata": {},
   "outputs": [],
   "source": [
    "busd=current_env[current_env.pool_name=='BUSD_USDC_05'].copy()"
   ]
  },
  {
   "cell_type": "code",
   "execution_count": 14,
   "id": "94e20417",
   "metadata": {},
   "outputs": [
    {
     "data": {
      "text/plain": [
       "14"
      ]
     },
     "execution_count": 14,
     "metadata": {},
     "output_type": "execute_result"
    }
   ],
   "source": [
    "busd_range=pd.date_range(busd.date.min(),current_env.date.max())\n",
    "len(busd_range[~busd_range.isin(busd.date)])"
   ]
  },
  {
   "cell_type": "code",
   "execution_count": 15,
   "id": "35518ebf",
   "metadata": {},
   "outputs": [],
   "source": [
    "busd_missing=busd_range[~busd_range.isin(busd.date)].to_frame().reset_index(drop=True)\n",
    "busd_missing.columns=['date']\n",
    "busd_missing['pool_name']='BUSD_USDC_05'\n",
    "busd_missing['returns']=0\n",
    "current_env_clean=pd.concat([current_env[['date','pool_name','returns']],busd_missing]).reset_index(drop=True)"
   ]
  },
  {
   "cell_type": "code",
   "execution_count": 16,
   "id": "0641f227",
   "metadata": {},
   "outputs": [],
   "source": [
    "returns_df=pd.concat([returnsColumn(tupple) for tupple in current_env_clean.groupby('pool_name')],axis=1)"
   ]
  },
  {
   "cell_type": "code",
   "execution_count": 17,
   "id": "8355dec9",
   "metadata": {},
   "outputs": [
    {
     "data": {
      "text/html": [
       "<div>\n",
       "<style scoped>\n",
       "    .dataframe tbody tr th:only-of-type {\n",
       "        vertical-align: middle;\n",
       "    }\n",
       "\n",
       "    .dataframe tbody tr th {\n",
       "        vertical-align: top;\n",
       "    }\n",
       "\n",
       "    .dataframe thead th {\n",
       "        text-align: right;\n",
       "    }\n",
       "</style>\n",
       "<table border=\"1\" class=\"dataframe\">\n",
       "  <thead>\n",
       "    <tr style=\"text-align: right;\">\n",
       "      <th></th>\n",
       "      <th>BUSD_USDC_05</th>\n",
       "      <th>DAI_USDC_01</th>\n",
       "      <th>DAI_USDC_05</th>\n",
       "      <th>USDC_USDT_01</th>\n",
       "      <th>USDC_USDT_05</th>\n",
       "    </tr>\n",
       "  </thead>\n",
       "  <tbody>\n",
       "    <tr>\n",
       "      <th>BUSD_USDC_05</th>\n",
       "      <td>1.000000</td>\n",
       "      <td>0.254832</td>\n",
       "      <td>0.181229</td>\n",
       "      <td>0.099226</td>\n",
       "      <td>0.162241</td>\n",
       "    </tr>\n",
       "    <tr>\n",
       "      <th>DAI_USDC_01</th>\n",
       "      <td>0.254832</td>\n",
       "      <td>1.000000</td>\n",
       "      <td>0.470742</td>\n",
       "      <td>0.464970</td>\n",
       "      <td>0.050227</td>\n",
       "    </tr>\n",
       "    <tr>\n",
       "      <th>DAI_USDC_05</th>\n",
       "      <td>0.181229</td>\n",
       "      <td>0.470742</td>\n",
       "      <td>1.000000</td>\n",
       "      <td>0.350555</td>\n",
       "      <td>0.452739</td>\n",
       "    </tr>\n",
       "    <tr>\n",
       "      <th>USDC_USDT_01</th>\n",
       "      <td>0.099226</td>\n",
       "      <td>0.464970</td>\n",
       "      <td>0.350555</td>\n",
       "      <td>1.000000</td>\n",
       "      <td>0.120362</td>\n",
       "    </tr>\n",
       "    <tr>\n",
       "      <th>USDC_USDT_05</th>\n",
       "      <td>0.162241</td>\n",
       "      <td>0.050227</td>\n",
       "      <td>0.452739</td>\n",
       "      <td>0.120362</td>\n",
       "      <td>1.000000</td>\n",
       "    </tr>\n",
       "  </tbody>\n",
       "</table>\n",
       "</div>"
      ],
      "text/plain": [
       "              BUSD_USDC_05  DAI_USDC_01  DAI_USDC_05  USDC_USDT_01  \\\n",
       "BUSD_USDC_05      1.000000     0.254832     0.181229      0.099226   \n",
       "DAI_USDC_01       0.254832     1.000000     0.470742      0.464970   \n",
       "DAI_USDC_05       0.181229     0.470742     1.000000      0.350555   \n",
       "USDC_USDT_01      0.099226     0.464970     0.350555      1.000000   \n",
       "USDC_USDT_05      0.162241     0.050227     0.452739      0.120362   \n",
       "\n",
       "              USDC_USDT_05  \n",
       "BUSD_USDC_05      0.162241  \n",
       "DAI_USDC_01       0.050227  \n",
       "DAI_USDC_05       0.452739  \n",
       "USDC_USDT_01      0.120362  \n",
       "USDC_USDT_05      1.000000  "
      ]
     },
     "execution_count": 17,
     "metadata": {},
     "output_type": "execute_result"
    }
   ],
   "source": [
    "returns_df.corr()"
   ]
  },
  {
   "cell_type": "code",
   "execution_count": 18,
   "id": "47177f34",
   "metadata": {},
   "outputs": [],
   "source": [
    "import src.portfolio_weight_simulation as ws"
   ]
  },
  {
   "cell_type": "code",
   "execution_count": 19,
   "id": "27d4dfdc",
   "metadata": {},
   "outputs": [],
   "source": [
    "results=ws.run(returns_df,100000)"
   ]
  },
  {
   "cell_type": "code",
   "execution_count": 20,
   "id": "9fc5c6af",
   "metadata": {},
   "outputs": [],
   "source": [
    "def annualize(results_df):\n",
    "    results_df['annual_returns']=results_df.daily_return*365\n",
    "    results_df['annual_std']=results_df.daily_std*365**(1/2)"
   ]
  },
  {
   "cell_type": "code",
   "execution_count": 21,
   "id": "cbf15a56",
   "metadata": {},
   "outputs": [],
   "source": [
    "annualize(results)"
   ]
  },
  {
   "cell_type": "code",
   "execution_count": 22,
   "id": "5968954c",
   "metadata": {},
   "outputs": [],
   "source": [
    "identity=np.matrix(np.identity(5))"
   ]
  },
  {
   "cell_type": "code",
   "execution_count": 23,
   "id": "9f78b93c",
   "metadata": {},
   "outputs": [],
   "source": [
    "identity_matrix=np.matrix(np.identity(5))\n",
    "base_case=ws.run(returns_df,identity_matrix)"
   ]
  },
  {
   "cell_type": "code",
   "execution_count": 24,
   "id": "4162bde5",
   "metadata": {},
   "outputs": [],
   "source": [
    "annualize(base_case)"
   ]
  },
  {
   "cell_type": "code",
   "execution_count": 25,
   "id": "8edebad2",
   "metadata": {},
   "outputs": [
    {
     "data": {
      "image/png": "[encoded data removed]",
      "text/plain": [
       "<Figure size 1500x1000 with 1 Axes>"
      ]
     },
     "metadata": {},
     "output_type": "display_data"
    }
   ],
   "source": [
    "plt.scatter(results.annual_std,results.annual_returns,color='lightgrey')\n",
    "for index, row in base_case.iterrows():\n",
    "    pool_name=base_case.columns[index]\n",
    "    plt.scatter([row.annual_std],[row.annual_returns],label=pool_name)\n",
    "_=plt.legend()"
   ]
  }
 ],
 "metadata": {
  "kernelspec": {
   "display_name": "Python 3 (ipykernel)",
   "language": "python",
   "name": "python3"
  },
  "language_info": {
   "codemirror_mode": {
    "name": "ipython",
    "version": 3
   },
   "file_extension": ".py",
   "mimetype": "text/x-python",
   "name": "python",
   "nbconvert_exporter": "python",
   "pygments_lexer": "ipython3",
   "version": "3.10.4"
  }
 },
 "nbformat": 4,
 "nbformat_minor": 5
}
